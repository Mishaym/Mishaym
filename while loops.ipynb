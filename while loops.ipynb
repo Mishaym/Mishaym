{
 "cells": [
  {
   "cell_type": "code",
   "execution_count": 4,
   "id": "1bca8307-c674-4509-938e-a7a36e94213d",
   "metadata": {},
   "outputs": [
    {
     "name": "stdout",
     "output_type": "stream",
     "text": [
      "1\n",
      "2\n",
      "3\n",
      "4\n",
      "5\n",
      "6\n",
      "7\n",
      "8\n",
      "9\n",
      "10\n"
     ]
    }
   ],
   "source": [
    "#counting with while loop\n",
    "count=1\n",
    "while count<=10:\n",
    "    print(count)\n",
    "    count+=1"
   ]
  },
  {
   "cell_type": "code",
   "execution_count": 6,
   "id": "c2673189-df9b-4273-8476-2bfbaeae9fc6",
   "metadata": {},
   "outputs": [
    {
     "name": "stdout",
     "output_type": "stream",
     "text": [
      "2\n",
      "4\n",
      "6\n",
      "8\n",
      "10\n",
      "12\n",
      "14\n",
      "16\n",
      "18\n",
      "20\n"
     ]
    }
   ],
   "source": [
    "#even numbers\n",
    "count=1\n",
    "while count<=20:\n",
    "    if count%2==0:\n",
    "        print(count)\n",
    "    count+=1    "
   ]
  },
  {
   "cell_type": "code",
   "execution_count": 12,
   "id": "ae9a17a4-bcb3-4c4e-886c-2984ebb30704",
   "metadata": {},
   "outputs": [
    {
     "name": "stdout",
     "output_type": "stream",
     "text": [
      "sum of natural numbers: 55\n"
     ]
    }
   ],
   "source": [
    "#sum of natural numbers\n",
    "count=1\n",
    "sum=0\n",
    "while count<=10:\n",
    "    sum+=count\n",
    "    count+=1\n",
    "print(\"sum of natural numbers:\",sum,)    \n"
   ]
  },
  {
   "cell_type": "code",
   "execution_count": 16,
   "id": "78e33a57-2bfd-420f-b0e5-a96ab1077137",
   "metadata": {},
   "outputs": [
    {
     "name": "stdin",
     "output_type": "stream",
     "text": [
      "Enter number: 50\n",
      "Enter number: 50\n",
      "Enter number: -9\n"
     ]
    },
    {
     "name": "stdout",
     "output_type": "stream",
     "text": [
      "Sum of entered numbers: 100\n"
     ]
    }
   ],
   "source": [
    "# 4. User input with Condition\n",
    "sum=0\n",
    "while True:\n",
    "    number=int(input('Enter number:'))\n",
    "    if number<0:\n",
    "        break\n",
    "    sum+=number\n",
    "print('Sum of entered numbers:',sum)"
   ]
  },
  {
   "cell_type": "code",
   "execution_count": 18,
   "id": "765864d6-5a55-4303-8441-5d2f587a267f",
   "metadata": {},
   "outputs": [
    {
     "name": "stdin",
     "output_type": "stream",
     "text": [
      "Guess number between 1 and 100: 32\n"
     ]
    },
    {
     "name": "stdout",
     "output_type": "stream",
     "text": [
      "Lower than correct guess\n"
     ]
    },
    {
     "name": "stdin",
     "output_type": "stream",
     "text": [
      "Guess number between 1 and 100: 88\n"
     ]
    },
    {
     "name": "stdout",
     "output_type": "stream",
     "text": [
      "Higher than correct guess\n"
     ]
    },
    {
     "name": "stdin",
     "output_type": "stream",
     "text": [
      "Guess number between 1 and 100: 45\n"
     ]
    },
    {
     "name": "stdout",
     "output_type": "stream",
     "text": [
      "You have guessed right\n"
     ]
    }
   ],
   "source": [
    "# 5. Number Guessing Game\n",
    "correct_number=45\n",
    "guess=0\n",
    "while True:\n",
    "    guess=int(input('Guess number between 1 and 100:'))\n",
    "    if guess==correct_number:\n",
    "        print('You have guessed right')\n",
    "        break\n",
    "    elif guess<correct_number:\n",
    "        print('Lower than correct guess')\n",
    "    else:\n",
    "        print('Higher than correct guess')"
   ]
  },
  {
   "cell_type": "code",
   "execution_count": 26,
   "id": "17e2e2b7-17da-4708-b129-660b03a2193b",
   "metadata": {},
   "outputs": [
    {
     "name": "stdin",
     "output_type": "stream",
     "text": [
      "Enter a positive integer: 8\n"
     ]
    },
    {
     "name": "stdout",
     "output_type": "stream",
     "text": [
      "Factorial: 40320\n"
     ]
    }
   ],
   "source": [
    "# 6. Factorial Calculation\n",
    "number=int(input('Enter a positive integer:'))\n",
    "factorial=1\n",
    "while number>0:\n",
    "    factorial*=number\n",
    "    number-=1\n",
    "print('Factorial:',factorial)"
   ]
  },
  {
   "cell_type": "code",
   "execution_count": 30,
   "id": "5211795d-de64-4400-8c86-60ccae6bbec9",
   "metadata": {},
   "outputs": [
    {
     "name": "stdin",
     "output_type": "stream",
     "text": [
      "Enter a number or('done' to finish): 23\n",
      "Enter a number or('done' to finish): 45\n",
      "Enter a number or('done' to finish): done\n"
     ]
    },
    {
     "name": "stdout",
     "output_type": "stream",
     "text": [
      "Average: 34.0\n"
     ]
    }
   ],
   "source": [
    "# 7. Average Calculator\n",
    "total=0\n",
    "count=0\n",
    "while True:\n",
    "    number=input(\"Enter a number or('done' to finish):\")\n",
    "    if number.lower()=='done':\n",
    "        break\n",
    "    else:\n",
    "        total+=float(number)\n",
    "        count+=1\n",
    "print('Average:', total/count)"
   ]
  },
  {
   "cell_type": "code",
   "execution_count": null,
   "id": "5f904f2d-7c98-4268-91d8-4ca4e0e3fa8e",
   "metadata": {},
   "outputs": [],
   "source": []
  }
 ],
 "metadata": {
  "kernelspec": {
   "display_name": "Python 3 (ipykernel)",
   "language": "python",
   "name": "python3"
  },
  "language_info": {
   "codemirror_mode": {
    "name": "ipython",
    "version": 3
   },
   "file_extension": ".py",
   "mimetype": "text/x-python",
   "name": "python",
   "nbconvert_exporter": "python",
   "pygments_lexer": "ipython3",
   "version": "3.12.7"
  }
 },
 "nbformat": 4,
 "nbformat_minor": 5
}
