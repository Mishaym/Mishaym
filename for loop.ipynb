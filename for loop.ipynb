{
 "cells": [
  {
   "cell_type": "code",
   "execution_count": 1,
   "id": "fb5028d0-60ad-4a65-a6fc-f4e914c18ce7",
   "metadata": {},
   "outputs": [],
   "source": [
    "#FOR LOOP"
   ]
  },
  {
   "cell_type": "code",
   "execution_count": 15,
   "id": "5eb68e08-867d-43bf-b774-5be42e84dd32",
   "metadata": {},
   "outputs": [
    {
     "name": "stdout",
     "output_type": "stream",
     "text": [
      "spider man\n",
      "lord of rings\n",
      "the conjuring\n",
      "home alone\n",
      "0:spider man\n",
      "1:lord of rings\n",
      "2:the conjuring\n",
      "3:home alone\n"
     ]
    }
   ],
   "source": [
    "#list iteration\n",
    "fav_movies = [\"spider man\",\"lord of rings\",\"the conjuring\",\"home alone\"]\n",
    "for movie in fav_movies:\n",
    "    print(movie)\n",
    "for index, movie in enumerate(fav_movies):\n",
    "    print(f\"{index}:{movie}\")"
   ]
  },
  {
   "cell_type": "code",
   "execution_count": 17,
   "id": "52773d15-7ee8-4082-8438-421988ec344a",
   "metadata": {},
   "outputs": [
    {
     "name": "stdout",
     "output_type": "stream",
     "text": [
      "0:spider man\n",
      "1:lord of rings\n",
      "2:the conjuring\n",
      "3:home alone\n"
     ]
    }
   ],
   "source": [
    "#list iteration\n",
    "fav_movies = [\"spider man\",\"lord of rings\",\"the conjuring\",\"home alone\"]\n",
    "for i in range(len(fav_movies)):\n",
    "    print(f\"{i}:{fav_movies[i]}\")\n"
   ]
  },
  {
   "cell_type": "code",
   "execution_count": 21,
   "id": "829e1449-75da-4800-817f-43ee6b89169b",
   "metadata": {},
   "outputs": [
    {
     "name": "stdout",
     "output_type": "stream",
     "text": [
      "M\n",
      "i\n",
      "s\n",
      "h\n",
      "a\n",
      "y\n",
      "m\n",
      " \n",
      "I\n",
      "q\n",
      "b\n",
      "a\n",
      "l\n",
      "no. of vowels: 4\n"
     ]
    }
   ],
   "source": [
    "#string iteration\n",
    "full_name = \"Mishaym Iqbal\"\n",
    "for char in full_name:\n",
    "    print(char)\n",
    "vowels = \"aeiouAEIOU\"\n",
    "count=0\n",
    "for char in full_name:\n",
    "    if char in vowels:\n",
    "        count+=1\n",
    "print(\"no. of vowels:\",count)\n",
    "        \n",
    "        \n",
    "    "
   ]
  },
  {
   "cell_type": "code",
   "execution_count": 29,
   "id": "5c78efc8-9a35-4ef3-a9b0-889bb6b43d1f",
   "metadata": {},
   "outputs": [
    {
     "name": "stdout",
     "output_type": "stream",
     "text": [
      "\n",
      "Mishaym\n",
      "90\n",
      "\n",
      "Sara\n",
      "95\n",
      "\n",
      "Fatima\n",
      "50\n",
      "student with highest marks is:Sara\n"
     ]
    }
   ],
   "source": [
    "#dictionary iterations\n",
    "students_grade= {'Mishaym':90,'Sara':95,'Fatima':50} \n",
    "for name,grade in students_grade.items():\n",
    "    print(f\"\\n{name}\")\n",
    "    print(grade)\n",
    "highest_marks=max(students_grade.values())    \n",
    "for name,grade in students_grade.items(): \n",
    "    if grade == highest_marks:\n",
    "        print(f\"student with highest marks is:{name}\")\n",
    "    "
   ]
  },
  {
   "cell_type": "code",
   "execution_count": 47,
   "id": "b1474293-f27b-4c5a-9062-9c295a0e5dae",
   "metadata": {},
   "outputs": [
    {
     "name": "stdout",
     "output_type": "stream",
     "text": [
      "0 1 2 \n",
      "2 3 4 \n",
      "4 5 6 \n",
      "sum of all element in matrix: 27\n"
     ]
    }
   ],
   "source": [
    "#nested for loop\n",
    "matrix=[\n",
    "    [0,1,2],\n",
    "    [2,3,4],\n",
    "    [4,5,6]\n",
    "]   \n",
    "for row in matrix:\n",
    "    for cell in row:\n",
    "        print(cell,end=' ')\n",
    "    print()\n",
    "sum=0\n",
    "for row in matrix:\n",
    "    for cell in row:\n",
    "        sum+=cell\n",
    "print(\"sum of all element in matrix:\",sum)        \n"
   ]
  },
  {
   "cell_type": "code",
   "execution_count": 59,
   "id": "3421a076-06d5-414e-b5f5-202037e7a570",
   "metadata": {},
   "outputs": [
    {
     "name": "stdout",
     "output_type": "stream",
     "text": [
      "in for loop: [1, 4, 9, 16, 25, 36, 49, 64, 81, 100]\n",
      "in list comprehension: [1, 4, 9, 16, 25, 36, 49, 64, 81, 100]\n"
     ]
    }
   ],
   "source": [
    "#printing squares in for loop\n",
    "squares=[]\n",
    "for i in range(1,11):\n",
    "    squares.append(i**2)\n",
    "print(\"in for loop:\",squares) \n",
    "#printing squares in list comprhension\n",
    "squares=[i**2 for i in range(1,11)]\n",
    "print(\"in list comprehension:\",squares)\n"
   ]
  },
  {
   "cell_type": "code",
   "execution_count": null,
   "id": "2f2b1616-3585-4527-b5c3-c5273e0b5dc9",
   "metadata": {},
   "outputs": [],
   "source": []
  }
 ],
 "metadata": {
  "kernelspec": {
   "display_name": "Python 3 (ipykernel)",
   "language": "python",
   "name": "python3"
  },
  "language_info": {
   "codemirror_mode": {
    "name": "ipython",
    "version": 3
   },
   "file_extension": ".py",
   "mimetype": "text/x-python",
   "name": "python",
   "nbconvert_exporter": "python",
   "pygments_lexer": "ipython3",
   "version": "3.12.7"
  }
 },
 "nbformat": 4,
 "nbformat_minor": 5
}
